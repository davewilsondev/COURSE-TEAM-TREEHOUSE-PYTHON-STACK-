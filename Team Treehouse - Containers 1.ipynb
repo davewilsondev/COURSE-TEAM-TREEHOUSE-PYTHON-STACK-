{
 "cells": [
  {
   "cell_type": "code",
   "execution_count": 15,
   "metadata": {},
   "outputs": [
    {
     "data": {
      "text/plain": [
       "['Raindrops on roses',\n",
       " 'Whiskers on kittens',\n",
       " 'Bright copper kettles',\n",
       " 'Warm woolen mittens',\n",
       " 'Warm woolen mittens',\n",
       " 'Bright paper packages tied up with string',\n",
       " 'cream coloured ponies',\n",
       " 'Crisp apple strudle']"
      ]
     },
     "execution_count": 15,
     "metadata": {},
     "output_type": "execute_result"
    }
   ],
   "source": [
    "favourite_things = [\"Raindrops on roses\", \"whiskers on kittens\", \"Bright copper kettles\"]\n",
    "\n",
    "#temp method\n",
    "favourite_things += [\"Warm woolen mittens\"]\n",
    "\n",
    "#perm method\n",
    "favourite_things += [\"Warm woolen mittens\"]\n",
    "\n",
    "#perm method alt\n",
    "favourite_things.append(\"Bright paper packages tied up with string\")\n",
    "\n",
    "#Perm method and you can use it with anything that is iterable\n",
    "favourite_things.extend([\"cream coloured ponies\", \"Crisp apple strudle\"])\n",
    "\n",
    "# insert lets you add anything to the list at a index\n",
    "del favourite_things[1]\n",
    "favourite_things.insert(1, \"Whiskers on kittens\")\n",
    "\n",
    "favourite_things"
   ]
  },
  {
   "cell_type": "code",
   "execution_count": 12,
   "metadata": {},
   "outputs": [
    {
     "data": {
      "text/plain": [
       "[1, 2, 3, 'a', 'b', 'c']"
      ]
     },
     "execution_count": 12,
     "metadata": {},
     "output_type": "execute_result"
    }
   ],
   "source": [
    "# the extend method works with anythingthat is iterable. For example.\n",
    "\n",
    "a= [1,2,3]\n",
    "a.extend(\"abc\")\n",
    "a\n"
   ]
  },
  {
   "cell_type": "code",
   "execution_count": null,
   "metadata": {
    "collapsed": true
   },
   "outputs": [],
   "source": [
    "##Challenge \n",
    "best = [1,2,3]\n",
    "best.extend(\"ab\")\n",
    "best.insert(0,\"start\")\n",
    "best\n"
   ]
  },
  {
   "cell_type": "code",
   "execution_count": null,
   "metadata": {
    "collapsed": true
   },
   "outputs": [],
   "source": [
    "import os\n",
    "\n",
    "shopping_list = []\n",
    "\n",
    "def clear_screen():\n",
    "    os.system(\"cls\" if os.name == \"nt\" else \"clear\")\n",
    "\n",
    "def show_help():\n",
    "    clear_screen()\n",
    "    print(\"What should we pick up at the store\")\n",
    "    print(\"\"\"\n",
    "Enter 'DONE' to stop adding items\n",
    "Enter 'HELP' for help\n",
    "Enter 'SHOW' to see your current list\n",
    "Enter 'QUIT' to exit\n",
    "Enter 'REMOVE' toremove a item from your list\n",
    "\"\"\")\n",
    "    \n",
    "def add_to_list(item):\n",
    "    show_list()\n",
    "    if len(shopping_list):\n",
    "        position = input(\"Where should i {}?\\nPress ENTER to add to the end of the list\\n> \".format(item))\n",
    "    else:\n",
    "        position = 0\n",
    "    \n",
    "    try: \n",
    "        position = abs(int(position))\n",
    "    except ValueError:\n",
    "        position = None\n",
    "    if position is not None:\n",
    "        shopping_list.insert(position-1, item)\n",
    "    else:    \n",
    "        shopping_list.append(new_item)\n",
    "    show_list()\n",
    "\n",
    "def remove_from_list():\n",
    "    show_list()\n",
    "    what_to_remove = input(\"What would you like to remove?\\n> \")\n",
    "    try:\n",
    "        shopping_list.remove(what_to_remove)\n",
    "    except ValueError:\n",
    "        Pass\n",
    "    show_list()\n",
    "        \n",
    "def show_list():    \n",
    "    clear_screen()  \n",
    "    \n",
    "    print(\"Here is your list: \")\n",
    "    print(\"\")\n",
    "    \n",
    "    index = 1\n",
    "    for item in shopping_list:\n",
    "        print(\"{}.{}\".format(index,item))\n",
    "        index += 1\n",
    "    print(\"-\"*10)\n",
    "        \n",
    "show_help()\n",
    "\n",
    "while True:\n",
    "    new_item = input(\"> \")\n",
    "    \n",
    "    if new_item.upper() == 'DONE' or new_item.upper() == 'QUIT':\n",
    "        break\n",
    "        \n",
    "    elif new_item.upper() == 'HELP':\n",
    "        show_help()\n",
    "        continue\n",
    "        \n",
    "    elif new_item.upper() == 'SHOW':\n",
    "        show_list()\n",
    "        continue\n",
    "    elif new_item.upper() == 'REMOVE':\n",
    "        remove_from_list()\n",
    "    else:\n",
    "        add_to_list(new_item)\n",
    "    \n",
    "show_list()\n",
    "    "
   ]
  },
  {
   "cell_type": "code",
   "execution_count": null,
   "metadata": {
    "collapsed": true
   },
   "outputs": [],
   "source": [
    "alpha_list = [\"a\",\"b\",\"z\",\"c\",\"d\"]\n",
    "del alpha_list[2]\n",
    "alpha_list"
   ]
  },
  {
   "cell_type": "code",
   "execution_count": null,
   "metadata": {
    "collapsed": true
   },
   "outputs": [],
   "source": [
    "my_list = [1,2,3,1]\n",
    "for i in my_list\n",
    "    mylist.remove(1)\n",
    "my_list\n"
   ]
  },
  {
   "cell_type": "code",
   "execution_count": null,
   "metadata": {
    "collapsed": true
   },
   "outputs": [],
   "source": [
    "names = [\"Kenneth\", \"Alena\", \"Sam\", \"Amjith\"]\n",
    "\n",
    "names_1 = names.pop(0)\n",
    "print(names_1)\n",
    "print(names)"
   ]
  },
  {
   "cell_type": "code",
   "execution_count": null,
   "metadata": {
    "collapsed": true
   },
   "outputs": [],
   "source": [
    "#vending machine \n",
    "sodas = [\"Pepsi\", \"Cherry Coke Zero\", \"Sprite\"]\n",
    "chips = [\"Doritos\", \"Fritos\"]\n",
    "candy = [\"Snickers\", \"M&Ms\", \"Twizzlers\"]\n",
    "\n",
    "while True:\n",
    "    choice = input(\"Would you like a SODA, some CHIPS or a CANDY? \").lower()\n",
    "    if choice == \"soda\":\n",
    "        snack = sodas.pop()\n",
    "    elif choice == \"chips\":\n",
    "        snack = chips.pop()\n",
    "    elif choice == \"candy\":\n",
    "        snack = candy.pop()\n",
    "    else:\n",
    "        print(\"Sorry i didnt understand that\")\n",
    "        continue\n",
    "    print(\"Heres your {} : {}\".format(choice,snack))"
   ]
  },
  {
   "cell_type": "code",
   "execution_count": null,
   "metadata": {
    "collapsed": true
   },
   "outputs": [],
   "source": [
    "# challenge\n",
    "\n",
    "messy_list = [\"a\", 2, 3, 1, False, [1, 2, 3]]\n",
    "list1 = []\n",
    "\n",
    "# remove the item at index 3\n",
    "a = messy_list.pop(3)\n",
    "\n",
    "#place the remove item at index 1\n",
    "messy_list.insert(0,a)\n",
    "\n",
    "# remove anything that isnt a integer\n",
    "for i in messy_list:\n",
    "    if type(i) == int:\n",
    "        list1.append(i)\n",
    "    else:\n",
    "        continue\n",
    "    messy_list = list1\n",
    "\n",
    "    \n",
    "print(messy_list)\n",
    "\n",
    "\n"
   ]
  },
  {
   "cell_type": "code",
   "execution_count": null,
   "metadata": {
    "collapsed": true
   },
   "outputs": [],
   "source": [
    "favourite_things = ['Raindrops on roses',\n",
    " 'Whiskers on kittens',\n",
    " 'Bright copper kettles',\n",
    " 'Warm woolen mittens',\n",
    " 'Bright paper packages tied up with string',\n",
    " 'cream coloured ponies',\n",
    " 'Crisp apple strudle']\n",
    "\n",
    "print(favourite_things[2:5])\n",
    "print(favourite_things[:5])\n",
    "print(favourite_things[2:])\n",
    "\n",
    "\n",
    "# This creates a copy of my list\n",
    "\n",
    "a = favourite_things[:]\n",
    "print(a)"
   ]
  },
  {
   "cell_type": "code",
   "execution_count": null,
   "metadata": {
    "collapsed": true
   },
   "outputs": [],
   "source": [
    "messy_list = [3,2,5,6,7,8]\n",
    "\n",
    "clean_list = messy_list[:]\n",
    "clean_list.sort()\n",
    "\n",
    "print(messy_list)\n",
    "print(clean_list)"
   ]
  },
  {
   "cell_type": "code",
   "execution_count": null,
   "metadata": {
    "collapsed": true
   },
   "outputs": [],
   "source": [
    "favorite_things = ['raindrops on roses', 'whiskers on kittens', 'bright copper kettles',\n",
    "                   'warm woolen mittens', 'bright paper packages tied up with string',\n",
    "                   'cream colored ponies', 'crisp apple strudels']\n",
    "\n",
    "slice1 = favorite_things[1:4]\n",
    "slice2 = favorite_things[-2:]\n",
    "\n",
    "sorted_things = favorite_things[:]\n",
    "sorted_things.sort()\n"
   ]
  },
  {
   "cell_type": "code",
   "execution_count": null,
   "metadata": {
    "collapsed": true
   },
   "outputs": [],
   "source": [
    "numbers = list(range(20))\n",
    "\n",
    "\n",
    "a = numbers[-2::-2]\n",
    "b = numbers[::2]\n",
    "c = numbers[::-1]\n",
    "\n",
    "print(a)"
   ]
  },
  {
   "cell_type": "code",
   "execution_count": null,
   "metadata": {
    "collapsed": true
   },
   "outputs": [],
   "source": [
    "\"Pontefract\"[::2]"
   ]
  },
  {
   "cell_type": "code",
   "execution_count": null,
   "metadata": {
    "collapsed": true
   },
   "outputs": [],
   "source": [
    "# challenge\n",
    "\n",
    "# step 1\n",
    "def first_4(itVar):\n",
    "\treturn itVar[:4]\n",
    "\n",
    "# step 2\n",
    "def first_and_last_4(itVar):\n",
    "    list1 = []\n",
    "    list1.append(itVar[:4])\n",
    "    list1.append(itVar[-4:])\n",
    "    return \"\".join(list1)\n",
    "\n",
    "# step 2.1\n",
    "def first_and_last_4(itVar):\n",
    "    a = itVar[:4]\n",
    "    b = itVar[-4:]\n",
    "    c = a+b\n",
    "    return c\n",
    "\n",
    "# step 3\n",
    "def odds(itVar):\n",
    "    a = itVar[1::2]\n",
    "    return a\n",
    "\n",
    "# step 4\n",
    "def reverse_evens(itVar):\n",
    "    a = itVar[::2]\n",
    "    b = a[-1::-1]\n",
    "    return b"
   ]
  },
  {
   "cell_type": "code",
   "execution_count": null,
   "metadata": {
    "collapsed": true
   },
   "outputs": [],
   "source": [
    "list1 = [0,1,2,3,4,5,6,\"hello\",True,7,9,8,\"World\",12]\n",
    "del list1[7:9]\n",
    "list1[8:10] = [8,9]\n",
    "list1[-2:-1] = [10,11]\n",
    "list1[-2:] = \"end\"\n",
    "#list1[-3:] = [\"end\"]\n",
    "list1[-3:] = [\"\".join(list1[-3:])]\n",
    "print(list1)"
   ]
  },
  {
   "cell_type": "code",
   "execution_count": null,
   "metadata": {
    "collapsed": true
   },
   "outputs": [],
   "source": [
    "def sillycase(argVar):\n",
    "    len1 = len(argVar)\n",
    "    l1 = int(len1/2)\n",
    "    a = argVar[:l1].lower()\n",
    "    b = argVar[l1:].upper()\n",
    "    c = a+b\n",
    "    return c"
   ]
  },
  {
   "cell_type": "code",
   "execution_count": null,
   "metadata": {
    "collapsed": true
   },
   "outputs": [],
   "source": [
    "# dictionaries are really good because you can have lots of value types as values\n",
    "\n",
    "python = {\"subject1\":\"variables\",\"subject2\":\"for loops\",\"subject3\":\"while loops\",\"subject4\":\"containers\"}\n",
    "\n",
    "python.update({\"teacher\":{\"firstname\":\"dave\",\"lastname\":\"wilson\"}})\n",
    "print(python[\"teacher\"][\"firstname\"])"
   ]
  },
  {
   "cell_type": "code",
   "execution_count": null,
   "metadata": {
    "collapsed": true
   },
   "outputs": [],
   "source": []
  },
  {
   "cell_type": "code",
   "execution_count": null,
   "metadata": {
    "collapsed": true
   },
   "outputs": [],
   "source": [
    "# challenge\n",
    "\n",
    "# step 1\n",
    "player = {\"name\":\"dave\",\"remaining_lives\":3}\n",
    "\n",
    "# step 2\n",
    "player = {\"name\":\"dave\",\"remaining_lives\":3,\"levels\":[1,2,3,4],\"items\":{\"onekey\":\"onevalue\"}}"
   ]
  },
  {
   "cell_type": "code",
   "execution_count": null,
   "metadata": {
    "collapsed": true
   },
   "outputs": [],
   "source": [
    "dave = {\"hobby1\":\"boxing\",\"hobby2\":\"python\"}\n",
    "dave[\"firstname\"] = \"dave\"\n",
    "\n",
    "dave.update({\"firstname\":\"davey\",\"favouritefood\":\"pork\"})\n",
    "dave[\"firstname\"] = \"dave\"\n",
    "del dave[\"favouritefood\"]\n",
    "print(dave)"
   ]
  },
  {
   "cell_type": "code",
   "execution_count": null,
   "metadata": {
    "collapsed": true
   },
   "outputs": [],
   "source": [
    "test_dict = {\"a\": 1, \"b\": 2, \"a\": 3}\n",
    "print(test_dict)"
   ]
  },
  {
   "cell_type": "code",
   "execution_count": null,
   "metadata": {
    "collapsed": true
   },
   "outputs": [],
   "source": [
    "# using this to pack the dictionary is really handy \n",
    "# really need to look more into keyword arguments\n",
    "\n",
    "def packer(name=None,**kwargs):\n",
    "    print(kwargs)\n",
    "    \n",
    "a = packer(name=\"dave\", num = 32, height = 182, chesthair = None)\n",
    "\n",
    "def unpacker(first_name = None, last_name = None):\n",
    "    if first_name and last_name:\n",
    "        print(\"Hi {} {}!\".format(first_name,last_name))\n",
    "    else:\n",
    "        print(\"Hi person with no name!\")\n",
    "    \n",
    "b = unpacker(\"Dave\",\"Wilson\")\n",
    "c = unpacker()\n",
    "d = unpacker(**{\"last_name\": \"Hart\", \"first_name\":\"Lucy\"})"
   ]
  },
  {
   "cell_type": "code",
   "execution_count": null,
   "metadata": {
    "collapsed": true
   },
   "outputs": [],
   "source": [
    "def favorite_food(dict):\n",
    "    return \"Hi, I'm {name} and I love to eat {food}!\".format(**dict)"
   ]
  },
  {
   "cell_type": "code",
   "execution_count": null,
   "metadata": {
    "collapsed": true
   },
   "outputs": [],
   "source": [
    "# challenge 1\n",
    "\n",
    "# E.g. word_count(\"I do not like it Sam I Am\") gets back a dictionary like:\n",
    "# {'i': 2, 'do': 1, 'it': 1, 'sam': 1, 'like': 1, 'not': 1, 'am': 1}\n",
    "# Lowercase the string to make it easier.\n",
    "\n",
    "'''def word_count(stringVar):\n",
    "    a = stringVar.lower()\n",
    "    c = a.split(' ')\n",
    "    b = {i:c.count(i) for i in c}\n",
    "    print(b) '''\n",
    "\n",
    "\n",
    "def word_count(string):\n",
    "    d = {}\n",
    "    for char in string.lower().split():\n",
    "        if char in d:\n",
    "            d[char] += 1\n",
    "        else:\n",
    "            d[char] = 1\n",
    "    print(d)\n",
    "\n",
    "\n",
    "word_count('hey hey hey you cunt you')\n"
   ]
  },
  {
   "cell_type": "code",
   "execution_count": null,
   "metadata": {
    "collapsed": true
   },
   "outputs": [],
   "source": [
    "# challenge 2\n",
    "\n",
    "import itertools\n",
    "\n",
    "def num_teachers(dictVar):\n",
    "    list1 = []\n",
    "    for i in dictVar:\n",
    "        list1.append(i)\n",
    "   \n",
    "    return len(list1)\n",
    "   \n",
    "def num_courses(dictVar):\n",
    "    list1 = []\n",
    "    list2 = []\n",
    "    for i in dictVar.values():\n",
    "        list1.append(i)\n",
    "    list2  = list(itertools.chain(*list1))\n",
    "    return len(list2)\n",
    "\n",
    "def courses(dictVar):\n",
    "    list1 = []\n",
    "    list2 = []\n",
    "    for i in dictVar.values():\n",
    "        list1.append(i)\n",
    "    list2  = list(itertools.chain(*list1))\n",
    "    return list2\n",
    "   \n",
    "# return the name of the teacher with most courses\n",
    "def most_courses(dictVar):\n",
    "   # need to work out a dictionary for the names and number of courses\n",
    "   list1 = []\n",
    "   list2 = []\n",
    "   for h in dictVar:\n",
    "       list1.append(h)\n",
    "   for i in dictVar.values():\n",
    "       list2.append(len(i))\n",
    "   #for j in dictVar.items():\n",
    "   #print(list1)\n",
    "   #print(list2)\n",
    "   return list1[(list2.index(max(list2)))]\n",
    "\n",
    "a = {'Andrew Chalkley': ['jQuery Basics', 'Node.js Basics', 'test'],'Kenneth Love': ['Python Basics', 'Python Collections']}\n",
    "\n",
    "def stats(dictVar):\n",
    "   list1 = []\n",
    "   list2 = []\n",
    "   list3 = []\n",
    "   for h in dictVar:\n",
    "       list1.append(h)\n",
    "   for i in dictVar.values():\n",
    "       list2.append(len(i))\n",
    "   for j in range(len(list1)):\n",
    "       list3.append(list1[j])\n",
    "       list3.append(list2[j])\n",
    "   a = [list3[i:i+2] for i in range(0,len(list3),2)]\n",
    "   return a\n",
    "  \n",
    "\n",
    "#num_teachers(a)\n",
    "#num_courses(a)\n",
    "#courses(a)\n",
    "#most_courses(a)\n",
    "stats(a)\n"
   ]
  },
  {
   "cell_type": "code",
   "execution_count": null,
   "metadata": {
    "collapsed": true
   },
   "outputs": [],
   "source": [
    "my_tuple = (1,2,3)\n",
    "\n",
    "#its the commas that make the tuple not the parenthesis\n",
    "my_second_tuple = 1,2,3\n",
    "\n",
    "my_third_tuple = (5)\n",
    "my_third_tuple = (5,)\n",
    "\n",
    "my_fourth_tuple = tuple([1,2,3,4])\n",
    "\n",
    "print(type(my_third_tuple))"
   ]
  },
  {
   "cell_type": "code",
   "execution_count": null,
   "metadata": {
    "collapsed": true
   },
   "outputs": [],
   "source": [
    "my_tuple[0]"
   ]
  },
  {
   "cell_type": "code",
   "execution_count": null,
   "metadata": {
    "collapsed": true
   },
   "outputs": [],
   "source": [
    "print(dir(my_tuple))"
   ]
  },
  {
   "cell_type": "code",
   "execution_count": null,
   "metadata": {
    "collapsed": true
   },
   "outputs": [],
   "source": [
    "# you can change lists inside tuples unfortunately\n",
    "\n",
    "tuple_with_list = 1,\"apple\",[1,2,3,4]\n",
    "\n",
    "tuple_with_list[2][1]= 5\n",
    "\n",
    "print(tuple_with_list)"
   ]
  },
  {
   "cell_type": "code",
   "execution_count": null,
   "metadata": {
    "collapsed": true
   },
   "outputs": [],
   "source": [
    "#swapping \n",
    "\n",
    "a = 5\n",
    "b = 20\n",
    "\n",
    "a,b = b,a\n"
   ]
  },
  {
   "cell_type": "code",
   "execution_count": null,
   "metadata": {
    "collapsed": true
   },
   "outputs": [],
   "source": [
    "a = 5\n",
    "b = 20\n",
    "c = b,a"
   ]
  },
  {
   "cell_type": "code",
   "execution_count": null,
   "metadata": {
    "collapsed": true
   },
   "outputs": [],
   "source": [
    "def add(*add):\n",
    "    total = 0 \n",
    "    for num in nums:\n",
    "        total+=num\n",
    "    return total\n",
    "\n",
    "add(5,5)\n",
    "        \n",
    "print(add(5,5))\n",
    "\n",
    "def add(base, *args):\n",
    "    total = base\n",
    "    for num in args:\n",
    "        total += num\n",
    "    return total\n",
    "\n",
    "add(34,68)\n",
    "\n",
    "        \n",
    "    "
   ]
  },
  {
   "cell_type": "code",
   "execution_count": null,
   "metadata": {
    "collapsed": true
   },
   "outputs": [],
   "source": [
    "#challenge\n",
    "\n",
    "def multiply(base,*args):\n",
    "    total = base\n",
    "    for num in args:\n",
    "        total *= num\n",
    "    return total"
   ]
  },
  {
   "cell_type": "code",
   "execution_count": null,
   "metadata": {
    "collapsed": true
   },
   "outputs": [],
   "source": []
  }
 ],
 "metadata": {
  "kernelspec": {
   "display_name": "Python 3",
   "language": "python",
   "name": "python3"
  },
  "language_info": {
   "codemirror_mode": {
    "name": "ipython",
    "version": 3
   },
   "file_extension": ".py",
   "mimetype": "text/x-python",
   "name": "python",
   "nbconvert_exporter": "python",
   "pygments_lexer": "ipython3",
   "version": "3.6.1"
  }
 },
 "nbformat": 4,
 "nbformat_minor": 2
}
